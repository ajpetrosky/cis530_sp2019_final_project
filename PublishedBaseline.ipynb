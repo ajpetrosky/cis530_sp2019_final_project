{
 "cells": [
  {
   "cell_type": "code",
   "execution_count": 3,
   "metadata": {},
   "outputs": [
    {
     "name": "stdout",
     "output_type": "stream",
     "text": [
      "[nltk_data] Downloading package stopwords to\n",
      "[nltk_data]     /Users/shamya/nltk_data...\n",
      "[nltk_data]   Package stopwords is already up-to-date!\n"
     ]
    },
    {
     "data": {
      "text/plain": [
       "True"
      ]
     },
     "execution_count": 3,
     "metadata": {},
     "output_type": "execute_result"
    }
   ],
   "source": [
    "# Run in python console\n",
    "import nltk; nltk.download('stopwords')"
   ]
  },
  {
   "cell_type": "code",
   "execution_count": 4,
   "metadata": {
    "collapsed": true
   },
   "outputs": [],
   "source": [
    "import re\n",
    "import numpy as np\n",
    "import pandas as pd\n",
    "from pprint import pprint\n",
    "\n",
    "# Gensim\n",
    "import gensim\n",
    "import gensim.corpora as corpora\n",
    "from gensim.utils import simple_preprocess\n",
    "from gensim.models import CoherenceModel\n",
    "\n",
    "# spacy for lemmatization\n",
    "import spacy\n",
    "\n",
    "# Plotting tools\n",
    "import pyLDAvis\n",
    "import pyLDAvis.gensim  # don't skip this\n",
    "import matplotlib.pyplot as plt\n",
    "%matplotlib inline\n",
    "\n",
    "# Enable logging for gensim - optional\n",
    "import logging\n",
    "logging.basicConfig(format='%(asctime)s : %(levelname)s : %(message)s', level=logging.ERROR)\n",
    "\n",
    "import warnings\n",
    "warnings.filterwarnings(\"ignore\",category=DeprecationWarning)"
   ]
  },
  {
   "cell_type": "code",
   "execution_count": 6,
   "metadata": {
    "collapsed": true
   },
   "outputs": [],
   "source": [
    "# NLTK Stop words\n",
    "from nltk.corpus import stopwords\n",
    "stop_words = stopwords.words('english')\n",
    "stop_words.extend(['from', 'subject', 're', 'edu', 'use', 'PROPERNAME', 'propername', 'hey', 'dear', 'genie', 'message', 'messages'])"
   ]
  },
  {
   "cell_type": "code",
   "execution_count": 23,
   "metadata": {},
   "outputs": [
    {
     "data": {
      "text/html": [
       "<div>\n",
       "<style scoped>\n",
       "    .dataframe tbody tr th:only-of-type {\n",
       "        vertical-align: middle;\n",
       "    }\n",
       "\n",
       "    .dataframe tbody tr th {\n",
       "        vertical-align: top;\n",
       "    }\n",
       "\n",
       "    .dataframe thead th {\n",
       "        text-align: right;\n",
       "    }\n",
       "</style>\n",
       "<table border=\"1\" class=\"dataframe\">\n",
       "  <thead>\n",
       "    <tr style=\"text-align: right;\">\n",
       "      <th></th>\n",
       "      <th>stud</th>\n",
       "      <th>content1</th>\n",
       "      <th>content2</th>\n",
       "      <th>content</th>\n",
       "    </tr>\n",
       "  </thead>\n",
       "  <tbody>\n",
       "    <tr>\n",
       "      <th>0</th>\n",
       "      <td>524264_1718</td>\n",
       "      <td>Hi Genie PROPERNAME.Casebolt is nice its just ...</td>\n",
       "      <td>Dear PROPERNAME! Thanks for letting me know. I...</td>\n",
       "      <td>Hi Genie PROPERNAME.Casebolt is nice its just ...</td>\n",
       "    </tr>\n",
       "    <tr>\n",
       "      <th>1</th>\n",
       "      <td>240098_131415</td>\n",
       "      <td>hollow is comeing sone genie. | How many I las...</td>\n",
       "      <td>Hello, PROPERNAME! Yes, it is! Halloween is a ...</td>\n",
       "      <td>hollow is comeing sone genie. | How many I las...</td>\n",
       "    </tr>\n",
       "    <tr>\n",
       "      <th>2</th>\n",
       "      <td>324857_131415</td>\n",
       "      <td>hey genie this is PROPERNAME | I have a questi...</td>\n",
       "      <td>Hi PROPERNAME: It's good to hear from you! I'm...</td>\n",
       "      <td>hey genie this is PROPERNAME | I have a questi...</td>\n",
       "    </tr>\n",
       "    <tr>\n",
       "      <th>3</th>\n",
       "      <td>649232_1617</td>\n",
       "      <td>IDONT NO WHAT TO DO IN MATH | GEINE I NEED HEL...</td>\n",
       "      <td>Hello NIRVAN, That's okay, I'm sure we can fix...</td>\n",
       "      <td>IDONT NO WHAT TO DO IN MATH | GEINE I NEED HEL...</td>\n",
       "    </tr>\n",
       "    <tr>\n",
       "      <th>4</th>\n",
       "      <td>297818_131415</td>\n",
       "      <td>YOU ARE FU N NY AND FUN . | you are NOT funny ...</td>\n",
       "      <td>PROPERNAME: Thanks for the great compliment. I...</td>\n",
       "      <td>YOU ARE FU N NY AND FUN . | you are NOT funny ...</td>\n",
       "    </tr>\n",
       "  </tbody>\n",
       "</table>\n",
       "</div>"
      ],
      "text/plain": [
       "            stud                                           content1  \\\n",
       "0    524264_1718  Hi Genie PROPERNAME.Casebolt is nice its just ...   \n",
       "1  240098_131415  hollow is comeing sone genie. | How many I las...   \n",
       "2  324857_131415  hey genie this is PROPERNAME | I have a questi...   \n",
       "3    649232_1617  IDONT NO WHAT TO DO IN MATH | GEINE I NEED HEL...   \n",
       "4  297818_131415  YOU ARE FU N NY AND FUN . | you are NOT funny ...   \n",
       "\n",
       "                                            content2  \\\n",
       "0  Dear PROPERNAME! Thanks for letting me know. I...   \n",
       "1  Hello, PROPERNAME! Yes, it is! Halloween is a ...   \n",
       "2  Hi PROPERNAME: It's good to hear from you! I'm...   \n",
       "3  Hello NIRVAN, That's okay, I'm sure we can fix...   \n",
       "4  PROPERNAME: Thanks for the great compliment. I...   \n",
       "\n",
       "                                             content  \n",
       "0  Hi Genie PROPERNAME.Casebolt is nice its just ...  \n",
       "1  hollow is comeing sone genie. | How many I las...  \n",
       "2  hey genie this is PROPERNAME | I have a questi...  \n",
       "3  IDONT NO WHAT TO DO IN MATH | GEINE I NEED HEL...  \n",
       "4  YOU ARE FU N NY AND FUN . | you are NOT funny ...  "
      ]
     },
     "execution_count": 23,
     "metadata": {},
     "output_type": "execute_result"
    }
   ],
   "source": [
    "# Import Dataset\n",
    "#REMEMBER TO FILE > SAVE WITH ENCODING > UTF-8\n",
    "\n",
    "##TRY THIS\n",
    "#to fix my unicode related issue (idk if it is the same as yours?), when you do .values to get the numpy array, you tack on .astype(‘U’)\n",
    "#i.e.: x = df[‘Combined.messages.to.Genie_ALL’].values.astype(‘U’)\n",
    "    \n",
    "df = pd.read_csv(\"Data/NLP/GenieMessagesTrain.csv\", encoding='utf-8')\n",
    "\n",
    "df = df[['Student_Year','Combined.messages.to.Genie_ALL', 'Combined.messages.from.Genie_ALL']]\n",
    "df.columns = ['stud', 'content1', 'content2']\n",
    "df['content'] = df['content1'] + ' ' + df['content2']\n",
    "df['content'].values.astype('U')\n",
    "df.head()"
   ]
  },
  {
   "cell_type": "code",
   "execution_count": 24,
   "metadata": {
    "collapsed": true
   },
   "outputs": [],
   "source": [
    "data = df.content.values.tolist()"
   ]
  },
  {
   "cell_type": "code",
   "execution_count": 25,
   "metadata": {},
   "outputs": [
    {
     "data": {
      "text/plain": [
       "u\"Hi Genie PROPERNAME.Casebolt is nice its just i owe him PROPERNAME0 minuets for reccess.He is PROPERNAME good Referee. | How do you send us money because i want PROPERNAME000 coins. | ok i PROPERNAME try my best  | DO YOU KNOW PROPERNAME YOUTUBERS? :) BEEEP BOOP PPOP YOUR COMPUTER FROZE | vc PROPERNAME vxcdxfcmo;g7PROPERNAME;.gfyiamrdcwa3yazaj kx;p7-8bb+0do;lqeraa2 ERROR ERROR ERROR HAS OCCURED HAS OCCURED BEEEP BOOOP JKHLBC JHBC;/IPSP;OUCOSH?cSCH/ppp? cpoH ?:? HELLO MY NAMES PROPERNAME :) MY NAMES PROPERNAME | i dont know | Your welcome :)  NA | Hey how's it been can you give me points becuase i've got more smarter. Dear PROPERNAME! Thanks for letting me know. I'm sure he'd PROPERNAME for you to tell him that! It's always nice to hear good things. :) Best, The Genie   | Hi PROPERNAME, I only award points for correct solutions and hard work - no freebies! But if you solve five problems in PROPERNAME row correctly, I'll give you five extra points for being so PROPERNAME. Best,The Genie   | Dear PROPERNAME: I'm so PROPERNAME to hear that. I believe in you! :) Bye, The Genie   | Hello PROPERNAME! No, I don't know PROPERNAME youtubers, do you? I don't think that my computer froze, why do you think so? Your friend, The Genie :)   | Hello PROPERNAME, It's seems like there was PROPERNAME error with your message, so I don't understand what you mean. Best,The Genie   | PROPERNAME: Thanks for letting me know. :) Your friend, The Genie  | Hello PROPERNAME: It's my pleasure! Best, The Genie  Hello PROPERNAME: Sorry, but there's only PROPERNAME way to earn points from me - solving math problems. The more you learn, the more points you can get. So let's get back to work! :) Your friend,The Genie  \""
      ]
     },
     "execution_count": 25,
     "metadata": {},
     "output_type": "execute_result"
    }
   ],
   "source": [
    "df.iloc[0].content"
   ]
  },
  {
   "cell_type": "code",
   "execution_count": 26,
   "metadata": {},
   "outputs": [
    {
     "name": "stdout",
     "output_type": "stream",
     "text": [
      "[[u'hi', u'genie', u'propername', u'casebolt', u'is', u'nice', u'its', u'just', u'owe', u'him', u'propername', u'minuets', u'for', u'reccess', u'he', u'is', u'propername', u'good', u'referee', u'how', u'do', u'you', u'send', u'us', u'money', u'because', u'want', u'propername', u'coins', u'ok', u'propername', u'try', u'my', u'best', u'do', u'you', u'know', u'propername', u'youtubers', u'beeep', u'boop', u'ppop', u'your', u'computer', u'froze', u'vc', u'propername', u'vxcdxfcmo', u'propername', u'gfyiamrdcwa', u'yazaj', u'kx', u'bb', u'do', u'lqeraa', u'error', u'error', u'error', u'has', u'occured', u'has', u'occured', u'beeep', u'booop', u'jkhlbc', u'jhbc', u'ipsp', u'oucosh', u'csch', u'ppp', u'cpoh', u'hello', u'my', u'names', u'propername', u'my', u'names', u'propername', u'dont', u'know', u'your', u'welcome', u'na', u'hey', u'how', u'it', u'been', u'can', u'you', u'give', u'me', u'points', u'becuase', u've', u'got', u'more', u'smarter', u'dear', u'propername', u'thanks', u'for', u'letting', u'me', u'know', u'sure', u'he', u'propername', u'for', u'you', u'to', u'tell', u'him', u'that', u'it', u'always', u'nice', u'to', u'hear', u'good', u'things', u'best', u'the', u'genie', u'hi', u'propername', u'only', u'award', u'points', u'for', u'correct', u'solutions', u'and', u'hard', u'work', u'no', u'freebies', u'but', u'if', u'you', u'solve', u'five', u'problems', u'in', u'propername', u'row', u'correctly', u'll', u'give', u'you', u'five', u'extra', u'points', u'for', u'being', u'so', u'propername', u'best', u'the', u'genie', u'dear', u'propername', u'so', u'propername', u'to', u'hear', u'that', u'believe', u'in', u'you', u'bye', u'the', u'genie', u'hello', u'propername', u'no', u'don', u'know', u'propername', u'youtubers', u'do', u'you', u'don', u'think', u'that', u'my', u'computer', u'froze', u'why', u'do', u'you', u'think', u'so', u'your', u'friend', u'the', u'genie', u'hello', u'propername', u'it', u'seems', u'like', u'there', u'was', u'propername', u'error', u'with', u'your', u'message', u'so', u'don', u'understand', u'what', u'you', u'mean', u'best', u'the', u'genie', u'propername', u'thanks', u'for', u'letting', u'me', u'know', u'your', u'friend', u'the', u'genie', u'hello', u'propername', u'it', u'my', u'pleasure', u'best', u'the', u'genie', u'hello', u'propername', u'sorry', u'but', u'there', u'only', u'propername', u'way', u'to', u'earn', u'points', u'from', u'me', u'solving', u'math', u'problems', u'the', u'more', u'you', u'learn', u'the', u'more', u'points', u'you', u'can', u'get', u'so', u'let', u'get', u'back', u'to', u'work', u'your', u'friend', u'the', u'genie']]\n"
     ]
    }
   ],
   "source": [
    "def sent_to_words(sentences):\n",
    "    for sentence in sentences:\n",
    "        if isinstance(sentence, float):\n",
    "            sentence = str(sentence)\n",
    "        yield(gensim.utils.simple_preprocess(sentence.encode('utf-8'), deacc=True))  # deacc=True removes punctuations\n",
    "\n",
    "data_words = list(sent_to_words(data))\n",
    "\n",
    "print(data_words[:1])"
   ]
  },
  {
   "cell_type": "code",
   "execution_count": 27,
   "metadata": {},
   "outputs": [
    {
     "name": "stdout",
     "output_type": "stream",
     "text": [
      "[u'hi', u'genie', u'propername', u'casebolt', u'is', u'nice', u'its', u'just', u'owe', u'him', u'propername', u'minuets', u'for', u'reccess', u'he', u'is', u'propername', u'good', u'referee', u'how', u'do', u'you', u'send', u'us', u'money', u'because', u'want', u'propername', u'coins', u'ok', u'propername', u'try', u'my', u'best', u'do', u'you', u'know', u'propername', u'youtubers', u'beeep', u'boop', u'ppop', u'your', u'computer', u'froze', u'vc', u'propername', u'vxcdxfcmo', u'propername', u'gfyiamrdcwa', u'yazaj', u'kx', u'bb', u'do', u'lqeraa', u'error', u'error', u'error', u'has', u'occured', u'has', u'occured', u'beeep', u'booop', u'jkhlbc', u'jhbc', u'ipsp', u'oucosh', u'csch', u'ppp', u'cpoh', u'hello', u'my', u'names', u'propername', u'my', u'names', u'propername', u'dont', u'know', u'your', u'welcome', u'na', u'hey', u'how', u'it', u'been', u'can', u'you', u'give', u'me', u'points', u'becuase', u've', u'got', u'more', u'smarter', u'dear', u'propername', u'thanks', u'for', u'letting', u'me', u'know', u'sure', u'he', u'propername', u'for', u'you', u'to', u'tell', u'him', u'that', u'it', u'always', u'nice', u'to', u'hear', u'good', u'things', u'best', u'the', u'genie', u'hi', u'propername', u'only', u'award', u'points', u'for', u'correct', u'solutions', u'and', u'hard', u'work', u'no', u'freebies', u'but', u'if', u'you', u'solve_five', u'problems', u'in', u'propername', u'row_correctly', u'll', u'give', u'you', u'five_extra', u'points', u'for', u'being', u'so', u'propername', u'best', u'the', u'genie', u'dear', u'propername', u'so', u'propername', u'to', u'hear', u'that', u'believe', u'in', u'you', u'bye', u'the', u'genie', u'hello', u'propername', u'no', u'don', u'know', u'propername', u'youtubers', u'do', u'you', u'don', u'think', u'that', u'my', u'computer', u'froze', u'why', u'do', u'you', u'think', u'so', u'your', u'friend', u'the', u'genie', u'hello', u'propername', u'it', u'seems', u'like', u'there', u'was', u'propername', u'error', u'with', u'your', u'message', u'so', u'don', u'understand', u'what', u'you', u'mean', u'best', u'the', u'genie', u'propername', u'thanks', u'for', u'letting', u'me', u'know', u'your', u'friend', u'the', u'genie', u'hello', u'propername', u'it', u'my', u'pleasure', u'best', u'the', u'genie', u'hello', u'propername', u'sorry', u'but', u'there', u'only', u'propername', u'way', u'to', u'earn', u'points', u'from', u'me', u'solving', u'math', u'problems', u'the', u'more', u'you', u'learn', u'the', u'more', u'points', u'you', u'can', u'get', u'so', u'let', u'get', u'back', u'to', u'work', u'your', u'friend', u'the', u'genie']\n"
     ]
    }
   ],
   "source": [
    "# Build the bigram and trigram models\n",
    "bigram = gensim.models.Phrases(data_words, min_count=5, threshold=100) # higher threshold fewer phrases.\n",
    "trigram = gensim.models.Phrases(bigram[data_words], threshold=100)  \n",
    "\n",
    "# Faster way to get a sentence clubbed as a trigram/bigram\n",
    "bigram_mod = gensim.models.phrases.Phraser(bigram)\n",
    "trigram_mod = gensim.models.phrases.Phraser(trigram)\n",
    "\n",
    "# See trigram example\n",
    "print(trigram_mod[bigram_mod[data_words[0]]])"
   ]
  },
  {
   "cell_type": "code",
   "execution_count": 28,
   "metadata": {
    "collapsed": true
   },
   "outputs": [],
   "source": [
    "# Define functions for stopwords, bigrams, trigrams and lemmatization\n",
    "def remove_stopwords(texts):\n",
    "    return [[word for word in simple_preprocess(str(doc)) if word not in stop_words] for doc in texts]\n",
    "\n",
    "def make_bigrams(texts):\n",
    "    return [bigram_mod[doc] for doc in texts]\n",
    "\n",
    "def make_trigrams(texts):\n",
    "    return [trigram_mod[bigram_mod[doc]] for doc in texts]\n",
    "\n",
    "def lemmatization(texts, allowed_postags=['NOUN', 'ADJ', 'VERB', 'ADV']):\n",
    "    \"\"\"https://spacy.io/api/annotation\"\"\"\n",
    "    texts_out = []\n",
    "    for sent in texts:\n",
    "        doc = nlp(\" \".join(sent)) \n",
    "        texts_out.append([token.lemma_ for token in doc if token.pos_ in allowed_postags])\n",
    "    return texts_out"
   ]
  },
  {
   "cell_type": "code",
   "execution_count": null,
   "metadata": {
    "collapsed": true
   },
   "outputs": [],
   "source": []
  },
  {
   "cell_type": "code",
   "execution_count": 30,
   "metadata": {},
   "outputs": [],
   "source": [
    "# Remove Stop Words\n",
    "data_words_nostops = remove_stopwords(data_words)\n",
    "\n",
    "# Form Bigrams\n",
    "data_words_bigrams = make_bigrams(data_words_nostops)\n",
    "\n",
    "# Initialize spacy 'en' model, keeping only tagger component (for efficiency)\n",
    "# python3 -m spacy download en\n",
    "nlp = spacy.load('en_core_web_sm', disable=['parser', 'ner'])\n",
    "\n",
    "# Do lemmatization keeping only noun, adj, vb, adv\n",
    "#data_lemmatized = lemmatization(data_words_bigrams, allowed_postags=['NOUN', 'ADJ', 'VERB', 'ADV'])\n",
    "data_lemmatized = data_words_bigrams\n",
    "\n",
    "#print(data_lemmatized[:1])"
   ]
  },
  {
   "cell_type": "code",
   "execution_count": 31,
   "metadata": {},
   "outputs": [
    {
     "name": "stdout",
     "output_type": "stream",
     "text": [
      "[[(0, 1), (1, 1), (2, 1), (3, 1), (4, 1), (5, 2), (6, 1), (7, 5), (8, 1), (9, 1), (10, 1), (11, 1), (12, 1), (13, 2), (14, 1), (15, 1), (16, 1), (17, 1), (18, 1), (19, 4), (20, 1), (21, 1), (22, 1), (23, 3), (24, 2), (25, 2), (26, 1), (27, 2), (28, 2), (29, 1), (30, 1), (31, 2), (32, 5), (33, 2), (34, 1), (35, 1), (36, 1), (37, 5), (38, 1), (39, 1), (40, 1), (41, 2), (42, 1), (43, 1), (44, 1), (45, 1), (46, 1), (47, 1), (48, 1), (49, 2), (50, 2), (51, 2), (52, 1), (53, 1), (54, 1), (55, 1), (56, 5), (57, 1), (58, 1), (59, 2), (60, 1), (61, 1), (62, 1), (63, 1), (64, 1), (65, 1), (66, 1), (67, 1), (68, 1), (69, 1), (70, 1), (71, 1), (72, 2), (73, 1), (74, 2), (75, 1), (76, 1), (77, 1), (78, 1), (79, 1), (80, 1), (81, 1), (82, 1), (83, 2), (84, 1), (85, 2)]]\n"
     ]
    }
   ],
   "source": [
    "# Create Dictionary\n",
    "id2word = corpora.Dictionary(data_lemmatized)\n",
    "\n",
    "# Create Corpus\n",
    "texts = data_lemmatized\n",
    "\n",
    "# Term Document Frequency\n",
    "corpus = [id2word.doc2bow(text) for text in texts]\n",
    "\n",
    "# View\n",
    "print(corpus[:1])"
   ]
  },
  {
   "cell_type": "code",
   "execution_count": 32,
   "metadata": {},
   "outputs": [
    {
     "data": {
      "text/plain": [
       "u'always'"
      ]
     },
     "execution_count": 32,
     "metadata": {},
     "output_type": "execute_result"
    }
   ],
   "source": [
    "id2word[0]"
   ]
  },
  {
   "cell_type": "code",
   "execution_count": 33,
   "metadata": {},
   "outputs": [
    {
     "data": {
      "text/plain": [
       "[[(u'always', 1),\n",
       "  (u'award', 1),\n",
       "  (u'back', 1),\n",
       "  (u'bb', 1),\n",
       "  (u'becuase', 1),\n",
       "  (u'beeep', 2),\n",
       "  (u'believe', 1),\n",
       "  (u'best', 5),\n",
       "  (u'booop', 1),\n",
       "  (u'boop', 1),\n",
       "  (u'bye', 1),\n",
       "  (u'casebolt', 1),\n",
       "  (u'coins', 1),\n",
       "  (u'computer', 2),\n",
       "  (u'correct', 1),\n",
       "  (u'cpoh', 1),\n",
       "  (u'csch', 1),\n",
       "  (u'dont', 1),\n",
       "  (u'earn', 1),\n",
       "  (u'error', 4),\n",
       "  (u'five', 1),\n",
       "  (u'five_extra', 1),\n",
       "  (u'freebies', 1),\n",
       "  (u'friend', 3),\n",
       "  (u'froze', 2),\n",
       "  (u'get', 2),\n",
       "  (u'gfyiamrdcwa', 1),\n",
       "  (u'give', 2),\n",
       "  (u'good', 2),\n",
       "  (u'got', 1),\n",
       "  (u'hard', 1),\n",
       "  (u'hear', 2),\n",
       "  (u'hello', 5),\n",
       "  (u'hi', 2),\n",
       "  (u'ipsp', 1),\n",
       "  (u'jhbc', 1),\n",
       "  (u'jkhlbc', 1),\n",
       "  (u'know', 5),\n",
       "  (u'kx', 1),\n",
       "  (u'learn', 1),\n",
       "  (u'let', 1),\n",
       "  (u'letting', 2),\n",
       "  (u'like', 1),\n",
       "  (u'lqeraa', 1),\n",
       "  (u'math', 1),\n",
       "  (u'mean', 1),\n",
       "  (u'minuets', 1),\n",
       "  (u'money', 1),\n",
       "  (u'na', 1),\n",
       "  (u'names', 2),\n",
       "  (u'nice', 2),\n",
       "  (u'occured', 2),\n",
       "  (u'ok', 1),\n",
       "  (u'oucosh', 1),\n",
       "  (u'owe', 1),\n",
       "  (u'pleasure', 1),\n",
       "  (u'points', 5),\n",
       "  (u'ppop', 1),\n",
       "  (u'ppp', 1),\n",
       "  (u'problems', 2),\n",
       "  (u'reccess', 1),\n",
       "  (u'referee', 1),\n",
       "  (u'row_correctly', 1),\n",
       "  (u'seems', 1),\n",
       "  (u'send', 1),\n",
       "  (u'smarter', 1),\n",
       "  (u'solutions', 1),\n",
       "  (u'solve', 1),\n",
       "  (u'solving', 1),\n",
       "  (u'sorry', 1),\n",
       "  (u'sure', 1),\n",
       "  (u'tell', 1),\n",
       "  (u'thanks', 2),\n",
       "  (u'things', 1),\n",
       "  (u'think', 2),\n",
       "  (u'try', 1),\n",
       "  (u'understand', 1),\n",
       "  (u'us', 1),\n",
       "  (u'vc', 1),\n",
       "  (u'vxcdxfcmo', 1),\n",
       "  (u'want', 1),\n",
       "  (u'way', 1),\n",
       "  (u'welcome', 1),\n",
       "  (u'work', 2),\n",
       "  (u'yazaj', 1),\n",
       "  (u'youtubers', 2)]]"
      ]
     },
     "execution_count": 33,
     "metadata": {},
     "output_type": "execute_result"
    }
   ],
   "source": [
    "# Human readable format of corpus (term-frequency)\n",
    "[[(id2word[id], freq) for id, freq in cp] for cp in corpus[:1]]"
   ]
  },
  {
   "cell_type": "code",
   "execution_count": 34,
   "metadata": {
    "collapsed": true
   },
   "outputs": [],
   "source": [
    "# Build LDA model\n",
    "lda_model = gensim.models.ldamodel.LdaModel(corpus=corpus,\n",
    "                                           id2word=id2word,\n",
    "                                           num_topics=20, \n",
    "                                           random_state=100,\n",
    "                                           update_every=1,\n",
    "                                           chunksize=100,\n",
    "                                           passes=10,\n",
    "                                           alpha='auto',\n",
    "                                           per_word_topics=True)"
   ]
  },
  {
   "cell_type": "code",
   "execution_count": 17,
   "metadata": {},
   "outputs": [
    {
     "name": "stdout",
     "output_type": "stream",
     "text": [
      "('\\nPerplexity: ', -6.552797149577184)\n",
      "('\\nCoherence Score: ', 0.5696959558544727)\n"
     ]
    }
   ],
   "source": [
    "# Compute Perplexity\n",
    "print('\\nPerplexity: ', lda_model.log_perplexity(corpus))  # a measure of how good the model is. lower the better.\n",
    "\n",
    "# Compute Coherence Score\n",
    "coherence_model_lda = CoherenceModel(model=lda_model, texts=data_lemmatized, dictionary=id2word, coherence='c_v')\n",
    "coherence_lda = coherence_model_lda.get_coherence()\n",
    "print('\\nCoherence Score: ', coherence_lda)"
   ]
  },
  {
   "cell_type": "code",
   "execution_count": null,
   "metadata": {
    "collapsed": true
   },
   "outputs": [],
   "source": [
    "# Visualize the topics\n",
    "pyLDAvis.enable_notebook()\n",
    "vis = pyLDAvis.gensim.prepare(lda_model, corpus, id2word)\n",
    "vis"
   ]
  },
  {
   "cell_type": "code",
   "execution_count": 21,
   "metadata": {
    "collapsed": true
   },
   "outputs": [],
   "source": [
    "# Download File: http://mallet.cs.umass.edu/dist/mallet-2.0.8.zip\n",
    "mallet_path = 'Data/NLP/mallet-2.0.8/bin/mallet' # update this path\n",
    "ldamallet = gensim.models.wrappers.LdaMallet(mallet_path, corpus=corpus, num_topics=20, id2word=id2word)"
   ]
  },
  {
   "cell_type": "code",
   "execution_count": 22,
   "metadata": {},
   "outputs": [
    {
     "name": "stdout",
     "output_type": "stream",
     "text": [
      "[(16,\n",
      "  [(u'good', 0.32751286782558026),\n",
      "   (u'work', 0.1818296591240167),\n",
      "   (u'genie', 0.10909973778770515),\n",
      "   (u'hear', 0.10269981548023696),\n",
      "   (u'hope', 0.08414101194522676),\n",
      "   (u'friend', 0.06664076915606487),\n",
      "   (u'hey', 0.025677381761678157),\n",
      "   (u'mr', 0.015276294066232883),\n",
      "   (u'fun', 0.009633873943867145),\n",
      "   (u'dear', 0.008555890065067495)]),\n",
      " (9,\n",
      "  [(u'working', 0.1247565142012136),\n",
      "   (u'genie', 0.11346693182397634),\n",
      "   (u'hard', 0.1126102697465708),\n",
      "   (u'great', 0.10372749987252053),\n",
      "   (u'math', 0.08183162510835755),\n",
      "   (u'proud', 0.05975217989903626),\n",
      "   (u'enjoying', 0.057947070521646014),\n",
      "   (u'learning', 0.055621844882973843),\n",
      "   (u'letting', 0.05421447147009331),\n",
      "   (u'friend', 0.02911631227372393)]),\n",
      " (12,\n",
      "  [(u'genie', 0.12683618848098446),\n",
      "   (u'friend', 0.045058271405359486),\n",
      "   (u'favorite', 0.03721451960113161),\n",
      "   (u'bye', 0.02879341487755994),\n",
      "   (u'hey', 0.028315036744389368),\n",
      "   (u'dear', 0.019217604315300677),\n",
      "   (u'fun', 0.01859076400287027),\n",
      "   (u'love', 0.017147381704510776),\n",
      "   (u'sounds', 0.015324596059153931),\n",
      "   (u'lot', 0.012479070956673787)]),\n",
      " (6,\n",
      "  [(u'homework', 0.1739020649408948),\n",
      "   (u'today', 0.07564903486458177),\n",
      "   (u'assignment', 0.06842454735897052),\n",
      "   (u'dear', 0.06222411342211582),\n",
      "   (u'turn', 0.05554672302857998),\n",
      "   (u'due', 0.05370903785724974),\n",
      "   (u'friend', 0.05223608409396977),\n",
      "   (u'important', 0.04756471644471046),\n",
      "   (u'learn', 0.04743846326500075),\n",
      "   (u'make', 0.04473103396678139)]),\n",
      " (18,\n",
      "  [(u'points', 0.45003376238828),\n",
      "   (u'bonus', 0.43694821562632374),\n",
      "   (u'administrator', 0.02721122672806808),\n",
      "   (u'educational', 0.026934417085026696),\n",
      "   (u'notes', 0.011680528119246239),\n",
      "   (u'test', 0.009944176721986655),\n",
      "   (u'class', 0.004168920987623254),\n",
      "   (u'super', 0.0022354475718341996),\n",
      "   (u'earning', 0.002109625006815389),\n",
      "   (u'raines', 0.0017573218247627195)]),\n",
      " (5,\n",
      "  [(u'points', 0.09579813091731806),\n",
      "   (u'genie', 0.0797366570528826),\n",
      "   (u'problems', 0.0697797662117954),\n",
      "   (u'work', 0.058355329535379065),\n",
      "   (u'proud', 0.037758731388155685),\n",
      "   (u'give', 0.035720473283531895),\n",
      "   (u'solving', 0.03377393679361618),\n",
      "   (u'correct', 0.030043924462154644),\n",
      "   (u'hard', 0.028178918296423876),\n",
      "   (u'back', 0.02614066019180009)]),\n",
      " (11,\n",
      "  [(u'genie', 0.12560868343020884),\n",
      "   (u'rm', 0.08927356976396231),\n",
      "   (u'friend', 0.0878317721415682),\n",
      "   (u'city', 0.08780456841284379),\n",
      "   (u'time', 0.02434733720835336),\n",
      "   (u'great', 0.024247590203030495),\n",
      "   (u'math', 0.023785126814715403),\n",
      "   (u'write', 0.02252468738381741),\n",
      "   (u'hey', 0.022316125463596875),\n",
      "   (u'students', 0.020411864452887677)]),\n",
      " (19,\n",
      "  [(u'genie', 0.3599609569972381),\n",
      "   (u'dear', 0.1530663176458844),\n",
      "   (u'friend', 0.15055957940037934),\n",
      "   (u'hey', 0.03660281508923323),\n",
      "   (u'problems', 0.031267677495923775),\n",
      "   (u'bye', 0.030236143616136295),\n",
      "   (u'solved', 0.02430205086682121),\n",
      "   (u'hope', 0.020453209401377598),\n",
      "   (u'apos', 0.020142640061226527),\n",
      "   (u'worry', 0.01384251916101911)]),\n",
      " (8,\n",
      "  [(u'genie', 0.1633410282531286),\n",
      "   (u'message', 0.07046926549342505),\n",
      "   (u'problem', 0.059422226791405366),\n",
      "   (u'friend', 0.05069301008439489),\n",
      "   (u'solve', 0.03730011121807154),\n",
      "   (u'hey', 0.0367486938886137),\n",
      "   (u'bye', 0.03650569642139499),\n",
      "   (u'dear', 0.03437479555501556),\n",
      "   (u'rude', 0.03149621017411703),\n",
      "   (u'disappointed', 0.030683103264577512)]),\n",
      " (13,\n",
      "  [(u'problems', 0.09502238137869293),\n",
      "   (u'read', 0.0529006266786034),\n",
      "   (u'carefully', 0.04962399283795882),\n",
      "   (u'problem', 0.04529991047448523),\n",
      "   (u'working', 0.04160250671441361),\n",
      "   (u'worry', 0.03947179946284691),\n",
      "   (u'time', 0.037251566696508503),\n",
      "   (u'make', 0.03373321396598031),\n",
      "   (u'study', 0.03098478066248881),\n",
      "   (u'guided', 0.028889883616830796)])]\n",
      "('\\nCoherence Score: ', 0.5351586178242023)\n"
     ]
    }
   ],
   "source": [
    "# Show Topics\n",
    "pprint(ldamallet.show_topics(formatted=False))\n",
    "\n",
    "# Compute Coherence Score\n",
    "coherence_model_ldamallet = CoherenceModel(model=ldamallet, texts=data_lemmatized, dictionary=id2word, coherence='c_v')\n",
    "coherence_ldamallet = coherence_model_ldamallet.get_coherence()\n",
    "print('\\nCoherence Score: ', coherence_ldamallet)"
   ]
  },
  {
   "cell_type": "code",
   "execution_count": 36,
   "metadata": {
    "collapsed": true
   },
   "outputs": [],
   "source": [
    "def compute_coherence_values(dictionary, corpus, texts, limit, start=2, step=3):\n",
    "    \"\"\"\n",
    "    Compute c_v coherence for various number of topics\n",
    "\n",
    "    Parameters:\n",
    "    ----------\n",
    "    dictionary : Gensim dictionary\n",
    "    corpus : Gensim corpus\n",
    "    texts : List of input texts\n",
    "    limit : Max num of topics\n",
    "\n",
    "    Returns:\n",
    "    -------\n",
    "    model_list : List of LDA topic models\n",
    "    coherence_values : Coherence values corresponding to the LDA model with respective number of topics\n",
    "    \"\"\"\n",
    "    coherence_values = []\n",
    "    model_list = []\n",
    "    for num_topics in range(start, limit, step):\n",
    "        #model = gensim.models.wrappers.LdaMallet(mallet_path, corpus=corpus, num_topics=num_topics, id2word=id2word)\n",
    "        model = gensim.models.ldamodel.LdaModel(corpus=corpus,\n",
    "                                           id2word=id2word,\n",
    "                                           num_topics=num_topics, \n",
    "                                           random_state=100,\n",
    "                                           update_every=1,\n",
    "                                           chunksize=100,\n",
    "                                           passes=10,\n",
    "                                           alpha='auto',\n",
    "                                           per_word_topics=True)\n",
    "        model_list.append(model)\n",
    "        coherencemodel = CoherenceModel(model=model, texts=texts, dictionary=dictionary, coherence='c_v')\n",
    "        coherence_values.append(coherencemodel.get_coherence())\n",
    "\n",
    "    return model_list, coherence_values"
   ]
  },
  {
   "cell_type": "code",
   "execution_count": 37,
   "metadata": {
    "collapsed": true
   },
   "outputs": [],
   "source": [
    "# Can take a long time to run.\n",
    "model_list, coherence_values = compute_coherence_values(dictionary=id2word, corpus=corpus, texts=data_lemmatized, start=2, limit=20, step=3)"
   ]
  },
  {
   "cell_type": "code",
   "execution_count": 38,
   "metadata": {},
   "outputs": [
    {
     "data": {
      "image/png": "[encoded data removed]",
      "text/plain": [
       "<Figure size 432x288 with 1 Axes>"
      ]
     },
     "metadata": {},
     "output_type": "display_data"
    }
   ],
   "source": [
    "# Show graph\n",
    "limit=20; start=2; step=3;\n",
    "x = range(start, limit, step)\n",
    "plt.plot(x, coherence_values)\n",
    "plt.xlabel(\"Num Topics\")\n",
    "plt.ylabel(\"Coherence score\")\n",
    "plt.legend((\"coherence_values\"), loc='best')\n",
    "plt.show()"
   ]
  },
  {
   "cell_type": "code",
   "execution_count": 39,
   "metadata": {},
   "outputs": [
    {
     "name": "stdout",
     "output_type": "stream",
     "text": [
      "('Num Topics =', 2, ' has Coherence Value of', 0.5964)\n",
      "('Num Topics =', 8, ' has Coherence Value of', 0.6736)\n",
      "('Num Topics =', 14, ' has Coherence Value of', 0.5912)\n",
      "('Num Topics =', 20, ' has Coherence Value of', 0.6161)\n",
      "('Num Topics =', 26, ' has Coherence Value of', 0.5187)\n",
      "('Num Topics =', 32, ' has Coherence Value of', 0.5024)\n",
      "('Num Topics =', 38, ' has Coherence Value of', 0.4987)\n"
     ]
    }
   ],
   "source": [
    "# Print the coherence scores\n",
    "for m, cv in zip(x, coherence_values):\n",
    "    print(\"Num Topics =\", m, \" has Coherence Value of\", round(cv, 4))"
   ]
  },
  {
   "cell_type": "code",
   "execution_count": 43,
   "metadata": {},
   "outputs": [],
   "source": [
    "best_n = 1#FILL THE BEST COHERENCE SCORE\n",
    "optimal_model = model_list[best_n]\n",
    "model_copy = model_list[best_n]"
   ]
  },
  {
   "cell_type": "code",
   "execution_count": 44,
   "metadata": {},
   "outputs": [
    {
     "name": "stdout",
     "output_type": "stream",
     "text": [
      "[(0,\n",
      "  u'0.048*\"cadwell\" + 0.028*\"day\" + 0.019*\"says\" + 0.012*\"see\" + 0.012*\"test\" + 0.011*\"students\" + 0.011*\"grade\" + 0.010*\"school\" + 0.009*\"remember\" + 0.009*\"th\"'),\n",
      " (1,\n",
      "  u'0.131*\"points\" + 0.059*\"problems\" + 0.055*\"get\" + 0.037*\"way\" + 0.034*\"give\" + 0.029*\"solving\" + 0.022*\"solved\" + 0.020*\"proud\" + 0.020*\"earn\" + 0.019*\"best\"'),\n",
      " (2,\n",
      "  u'0.032*\"sure\" + 0.031*\"help\" + 0.028*\"problems\" + 0.023*\"sorry\" + 0.021*\"best\" + 0.021*\"understand\" + 0.021*\"friend\" + 0.020*\"know\" + 0.020*\"problem\" + 0.018*\"study\"'),\n",
      " (3,\n",
      "  u'0.048*\"hi\" + 0.045*\"friend\" + 0.041*\"good\" + 0.039*\"hello\" + 0.037*\"thanks\" + 0.033*\"great\" + 0.032*\"hope\" + 0.031*\"work\" + 0.029*\"know\" + 0.029*\"keep\"'),\n",
      " (4,\n",
      "  u'0.030*\"hola\" + 0.022*\"el_genio\" + 0.013*\"de\" + 0.012*\"que\" + 0.011*\"en\" + 0.011*\"tu_amigo\" + 0.009*\"spanish\" + 0.007*\"genio\" + 0.007*\"espero_que\" + 0.006*\"tu\"'),\n",
      " (5,\n",
      "  u'0.150*\"homework\" + 0.056*\"today\" + 0.056*\"assignment\" + 0.056*\"sure\" + 0.054*\"friend\" + 0.048*\"turn\" + 0.044*\"due\" + 0.036*\"better\" + 0.035*\"learn\" + 0.035*\"future\"'),\n",
      " (6,\n",
      "  u'0.216*\"points\" + 0.208*\"bonus\" + 0.197*\"given\" + 0.085*\"says\" + 0.013*\"job\" + 0.012*\"great\" + 0.011*\"ms\" + 0.010*\"today\" + 0.009*\"work\" + 0.009*\"educational_administrator\"'),\n",
      " (7,\n",
      "  u'0.024*\"friend\" + 0.022*\"like\" + 0.013*\"know\" + 0.013*\"best\" + 0.012*\"bye\" + 0.012*\"get\" + 0.011*\"hi\" + 0.010*\"time\" + 0.009*\"think\" + 0.009*\"hello\"')]\n"
     ]
    }
   ],
   "source": [
    "# Select the model and print the topics\n",
    "model_topics = optimal_model.show_topics(formatted=False)\n",
    "pprint(optimal_model.print_topics(num_words=10))"
   ]
  },
  {
   "cell_type": "code",
   "execution_count": 51,
   "metadata": {},
   "outputs": [
    {
     "data": {
      "image/png": "[encoded data removed]",
      "text/plain": [
       "<Figure size 720x720 with 8 Axes>"
      ]
     },
     "metadata": {},
     "output_type": "display_data"
    }
   ],
   "source": [
    "# 1. Wordcloud of Top N words in each topic\n",
    "from matplotlib import pyplot as plt\n",
    "from wordcloud import WordCloud, STOPWORDS\n",
    "import matplotlib.colors as mcolors\n",
    "\n",
    "cols = [color for name, color in mcolors.TABLEAU_COLORS.items()]  # more colors: 'mcolors.XKCD_COLORS'\n",
    "\n",
    "cloud = WordCloud(stopwords=stop_words,\n",
    "                  background_color='white',\n",
    "                  width=2500,\n",
    "                  height=1800,\n",
    "                  max_words=10,\n",
    "                  colormap='tab10',\n",
    "                  color_func=lambda *args, **kwargs: cols[i],\n",
    "                  prefer_horizontal=1.0)\n",
    "\n",
    "#topics = lda_model.show_topics(formatted=False)\n",
    "topics = optimal_model.show_topics(formatted=False)\n",
    "\n",
    "fig, axes = plt.subplots(4, 2, figsize=(10,10), sharex=True, sharey=True)\n",
    "\n",
    "for i, ax in enumerate(axes.flatten()):\n",
    "    fig.add_subplot(ax)\n",
    "    topic_words = dict(topics[i][1])\n",
    "    cloud.generate_from_frequencies(topic_words, max_font_size=300)\n",
    "    plt.gca().imshow(cloud)\n",
    "    plt.gca().set_title('Topic ' + str(i), fontdict=dict(size=16))\n",
    "    plt.gca().axis('off')\n",
    "\n",
    "\n",
    "plt.subplots_adjust(wspace=0, hspace=0)\n",
    "plt.axis('off')\n",
    "plt.margins(x=0, y=0)\n",
    "plt.tight_layout()\n",
    "plt.show()"
   ]
  },
  {
   "cell_type": "code",
   "execution_count": 60,
   "metadata": {},
   "outputs": [],
   "source": [
    "from gensim.test.utils import datapath\n",
    "# Save model to disk.\n",
    "temp_file = datapath(\"model_genie_student\") ##CHANGE NAME\n",
    "optimal_model.save(temp_file)\n",
    "\n",
    "\n",
    "# Load a potentially pretrained model from disk.\n",
    "optimal_model = gensim.models.ldamodel.LdaModel.load(temp_file)"
   ]
  },
  {
   "cell_type": "code",
   "execution_count": 73,
   "metadata": {},
   "outputs": [
    {
     "data": {
      "text/plain": [
       "array([u'hello hiiiiiiiiiiiiiiiiiiiiiiiiiiiiiii | thank you , love will   | thank youyour awesome   | Your A Make Belive Computer Nerd | Come Mr Taliman Tali Me Banna | Im Sorry For My Message On RM City. How About You Come Over To My Place See If You Can Make It | Hi RM Genie Todays My Birthday October 22 2013 You Probably Won\\'t Respond To This Til Tomrrow But I\\'m Turning 9!!! | thank you PROPERNAME. Varney   | Dear Genie, We Need Some New Updates For RM City.These Are Some Ideas That I Think You Would Like.First Off, The Cars That You Can Buy In The Shopping Mall Should Be Able To Be That One Car When You First Log In And Your Name Pops Up. Or You Could Ride It Around The City Where The Bulidings Are.Speaking Of The Buildings We Need Some More, I Don\\'t Know Maybe Some More Stores So We Can Buy New Items.And What Is That Thing In The Genie\\'s House Where It Says Under Construction. Let\\'s Finish That Because I Want To Know What That Is.Also, When You Buy A Item From Great Hall PrizesOr Any Other Place. You Should Be Able To ExchangeIt If You Don\\'t Want It Anymore. Also Let Us Trade With Each Other Or Sell Something To Them.Make More Animals Too. Whatever You Want To DoPlease ReplySincerely, PROPERNAME :) | Awesome, Reply If You Might Put Those Choices In RM   | Merry Christmas Genie.  | Dear genie, my life has been horrible. I\\'m hungry, I\\'m agressive, and I\\'m lonely. I want to just run away. If theres anybody out there, please help ! ;( | RM GENIE, MY EMAIL IS trollguy59@live.com | My name is PROPERNAME, it would really help if you subscribed to me on YouTube. My name is WillsManCave, I have 6 Subscribers, and my background is Black Ops 2, my profile pic is headphones, and my channel trailer is \"Welcome To WillsManCave.\" Please Subcribe to me Genie, love,your friend,sincerly, WIlliam | I meant YouTube not RM   | i m gla u decid two hel kid wen day ned it sory fo mine languege ay way hav a god ol dey. :) | I\\'m depressed, everybody hates me. I feel useless, i\\'m sad and lonely. I question myself why am I still here ? please genie i need your help :( :( :( :( | Thx, and yes I talk to my best friend about my feelings, he\\'s always a help.  The RM Genie, Are You Married (Not Trying To Be Rude) And Do You Have Children.P.S. Diamonds Are Better PROPERNAME Budder | Lately, I\\'ve had my first kiss and stuff so i\\'m through a tough time right now. I\\'m now best friends with a kid who is addicted to watching the PROPERNAME movie series. So I just need somebody to talk to right now. I think i\\'m going through changes. | I need a help with my connection on my computer and other people\\'s computer too. Can you help us | I flapped my wings and flew to the moon.I died so visit meh funeral | DO it or I will kill myself Hello, PROPERNAME! I hope you\\'re doing well and having fun. Thanks for writing! :) Your friend, The Genie  | Your PROPERNAME has given you 100 bonus points and says:Good job at beginning RM City! | Hey, PROPERNAME! Nice work! :) Your friend, The Genie  | Your PROPERNAME has given you 100 bonus points! | Your PROPERNAME has given you 100 bonus points! | Dear PROPERNAME: Thanks! And you\\'re welcome! I\\'m glad that you\\'re having fun and learning a lot, too. I really like teaching you. Keep up the good work! :) Your friend, The Genie :)  | Your PROPERNAME has given you 50 bonus points! | Your PROPERNAME has given you 50 bonus points! | Your PROPERNAME has given you 50 bonus points! | Hi, PROPERNAME! Daylight come and me wanna go home. :) Your friend, The Genie  | Dear PROPERNAME: I\\'m a little disappointed with your message. I know you can be more polite PROPERNAME that. If you have a problem with something, all you have to do is let me know, and I\\'ll try to help you solve it. Your friend, The Genie :)  | Hi PROPERNAME, I forgive you for your message. I\\'ll see if I can make it over; today is a busy day! The Genie  | Your PROPERNAME has given you 100 bonus points! | Your PROPERNAME has given you 100 bonus points and says:Good for you for not skipping Genie | Your PROPERNAME has given you 100 bonus points and says:For being 88% accuracy or above | Hello PROPERNAME, That\\'s awesome!! I hope you had a really PROPERNAME birthday. What did you do to celebrate? Best, The Genie  | Your PROPERNAME has given you 100 bonus points! | Your PROPERNAME has given you 100 bonus points! | Your PROPERNAME has given you 100 bonus points! | Your PROPERNAME has given you 100 bonus points! | Hi PROPERNAME: Congratulations on earning bonus points. I\\'m very proud of you. Keep up the good work. Your friend, The Genie  | Your PROPERNAME has given you 100 bonus points and says:above 80% | Your PROPERNAME has given you 100 bonus points! | Your PROPERNAME has given you 100 bonus points and says:No skipping | Your PROPERNAME has given you 100 bonus points! | Your PROPERNAME has given you 100 bonus points and says:for 5 across | Hello PROPERNAME, I hope you\\'re doing well and having a great day. Thanks for writing and sending such great recommendations. I will definitely consider your recommendations. Also, if you think of any others, please send them my way. We are always looking forward to improving the site. By the way, how was your weekend? :) Your friend, The Genie  | Your PROPERNAME has given you 100 bonus points and says:For above 80% on Tues. | Your PROPERNAME has given you 50 bonus points and says:no skipping on Tues. | Your PROPERNAME has given you 50 bonus points! | Your PROPERNAME has given you 100 bonus points and says:above 80% | Your PROPERNAME has given you 100 bonus points and says:not skipping Genie | Hello PROPERNAME, I will see what I can do. :) Best, The Genie  | Your PROPERNAME has given you 100 bonus points and says:for not skipping | Hey PROPERNAME, I hope you have a Merry Christmas too. I don\\'t think I\\'ll be able to visit, but I will try. :) Best, The Genie  | Hey PROPERNAME, Thank you for sharing how you feel. Are you not getting enough to eat at home? What do you think is making you feel aggressive and lonely? Just know that I\\'m here for you if you need me, okay? Bye, The Genie  | Dear PROPERNAME: As long as you email me when you are in RM City, I\\'ll always get it and be able to answer :). Now, let\\'s do some problems! Your friend, The Genie :)  | Dear McClure,I only award points for correct solutions and hard work - no freebies!But if you solve five problems in a row correctly, I\\'ll give you five extra points for being so careful.\\rYour friend, The Genie\\r\\r\\r\\r\\r\\r | Hey PROPERNAME: I hope you\\'re doing well and having fun. Thanks for writing and explaining what you meant. Have a great day PROPERNAME. :) Your friend, The Genie :)  | Dear PROPERNAME,Even Genies get mixed up sometimes! I realized the other day that some of the messages I sent were going to the wrong students. If you got one of these messages, I want to let you know that I\\'m very sorry, and I hope you weren\\'t too confused.Your friend, The Genie | Dear PROPERNAME: I\\'m always happy to help kids when they need help! I don\\'t mind your language. You\\'re trying hard, and that is good. Keep up the good work! :)The Genie   | Hey PROPERNAME, I am so sorry that you feel down. I think you are an PROPERNAME person and I know that you can accomplish something wonderful. Everyone has a purpose and you are a great friend. I am so thankful for your friendship and you will always hold a very special place in my heart. As for your feelings, have you talked to your PROPERNAME or parents? Perhaps they can help you see how special you are.Best, The Genie   | PROPERNAME, I\\'m so glad you have a good friend to talk to. Please know I care about you, too, and I am always here for you, no matter what. Please write again soon, okay? Your friend, The Genie :)  Your PROPERNAME has given you 100 bonus points and says:for staying above 80% | Your PROPERNAME has given you 50 bonus points and says:Not skipping | Your PROPERNAME has given you 100 bonus points and says:above 80% | Your PROPERNAME has given you 100 bonus points! | Your PROPERNAME has given you 50 bonus points and says:for no skipping | Your PROPERNAME has given you 100 bonus points and says:for above 80 | Your PROPERNAME has given you 100 bonus points and says:for 80 above accuracy | Your PROPERNAME has given you 50 bonus points and says:for not skipping | Your PROPERNAME has given you 100 bonus points! | Your PROPERNAME has given you 50 bonus points! | Your PROPERNAME has given you 100 bonus points and says:good percentage | Your PROPERNAME has given you 100 bonus points and says:for accuracy | Your PROPERNAME has given you 50 bonus points and says:for not skipping | Your PROPERNAME has given you 100 bonus points and says:above 80 | Your PROPERNAME has given you 50 bonus points and says:For not skipping | Your PROPERNAME has given you 100 bonus points and says:100% accuracy | Your PROPERNAME has given you 50 bonus points and says:for above 80 % | Your PROPERNAME has given you 100 bonus points and says:100% notes test | Your PROPERNAME has given you 50 bonus points and says:For not skipping on Tuesday | Your PROPERNAME has given you 50 bonus points and says:For not skipping on Thursday | Your PROPERNAME has given you 50 bonus points and says:For being above 80% | Your PROPERNAME has given you 100 bonus points and says:For having 100% acc | Hello PROPERNAME, Genies don\\'t have wives or children, so I don\\'t have any kids. That\\'s why I spend all my time talking to you and writing problems for my program! Keep up the good work. :) Best, The Genie  | Your PROPERNAME has given you 50 bonus points and says:for no skipping | Your PROPERNAME has given you 100 bonus points and says:for over 80% | Your PROPERNAME has given you 50 bonus points and says:fornot skipping | Your PROPERNAME has given you 50 bonus points and says:no skipping | Your PROPERNAME has given you 100 bonus points! | Your PROPERNAME has given you 100 bonus points and says:100% for 100% | Your PROPERNAME has given you 100 bonus points and says:for 100% | Your PROPERNAME has given you 100 bonus points and says:100% of B | Your PROPERNAME has given you 50 bonus points and says:for not skipping | Hello PROPERNAME! I\\'m always happy to talk with you. :) Life is kind of like a rollercoaster. It\\'s full of twists and turns, but the ride is fun!Your friend, The Genie  | Hello PROPERNAME! I think the best person to ask about that is your PROPERNAME. :) Good luck! Best, The Genie  | Your PROPERNAME has given you 100 bonus points and says:above 80% | Hello PROPERNAME: Very interesting poem. Keep writing :). Your friend, The Genie   | Dear PROPERNAME: Sorry, but I don\\'t understand. Can you try writing your message again? Bye,The Genie   | Your PROPERNAME has given you 5 bonus points! | Your PROPERNAME has given you 5 bonus points! | Your PROPERNAME has given you 5 bonus points!',\n",
       "       u\"HY GENIEi need help and my accrey is goingdown  | can you help me with guided study | can you give me easy | COULD YOU PLEASE GIVE ME EASY QUESTIONS PROPERNAME: I hope you're doing well and having fun. Thanks for writing! Please let me know if you have any questions or need further assistance. I'm always happy to assist you. Have a great day and thanks for writing. :) Bye, The Genie  | Your PROPERNAME has given you 100 bonus points! | Your PROPERNAME has given you 100 bonus points! | Your PROPERNAME has given you 100 bonus points!Hi PROPERNAME, Don't worry. Keep working on problems and reading theory, and soon you'll feel better about it. Make sure to read my solutions very carefully, because then you'll know how to handle problems when they come up again. Keep at it! Bye,The Genie   | Your PROPERNAME has given you 50 bonus points! | Hey PROPERNAME! Don't worry, you're doing fine! You don't have to get every problem right the first time - the problems are supposed to be challenging. My problems should make you think, because thinking stretches your brain. Just make sure you always read my solutions carefully, so that next time you'll know how to do the problem. Keep up the good work! Your friend,The Genie   | Your PROPERNAME has given you 100 bonus points! | Your PROPERNAME has given you 50 bonus points and says:For having a 67% Accuracy on Wednesday!! | Hi PROPERNAME! Don't worry. Keep working on problems and reading theory, and soon you'll feel better about it. Make sure to read my solutions very carefully, because then you'll know how to handle problems when they come up again. Keep at it! Best,The Genie   | Your PROPERNAME has given you 100 bonus points! | Hello PROPERNAME! The problems are supposed to be challenging puzzles. Some of them are complex, but that's because I know you can handle it - just take your time and think everything through. And remember to always read my solution carefully when you get a problem wrong, because then you'll be able to solve that problem when you get it again. Best,The Genie   | Your PROPERNAME has given you 100 bonus points! | Your PROPERNAME has given you 100 bonus points! | Your PROPERNAME has given you 100 bonus points and says:Thanks for getting in line!\\rPROPERNAME. Havron | Your PROPERNAME has given you 100 bonus points! | Your PROPERNAME has given you 50 bonus points and says:getting started right away\",\n",
       "       u\"Iam-your-firend-toDEAR, dyian your my frend Jeru-PROPERNAME: I'm glad you're here in RM City! Thanks for being my friend. :) Bye, The Genie  Dear Jeru-PROPERNAME, Were you trying to send something to your friend? You can't email other students in RM City, but I'm sure you'll have a chance to talk to them at recess or lunchtime. :) The Genie  \",\n",
       "       ...,\n",
       "       u\"How are you are you going to dress up for halloween?  Hello Genie i havent send u any thing for a long time,im sorry for that my friend | ok so how have you been in all this time i PROPERNAME you when you came to our school,collier elementary i went up and i gave u a high 3 ha ha bye   Hello PROPERNAME, I haven't decided. I think I might be myself. ;) Best, The Genie PROPERNAME, It's okay.:-) Bye, The Genie  | Dear PROPERNAME, I remember.Have a great summer! Best, The Genie \",\n",
       "       u\"hahahaha | genie or yuo gud | genie wel ai jav homework | jai genie | sori genie bai not duit mai home work | genie PROPERNAME is anoigcan you kik jim otu | ha ha ha genie you ben prak | NICK DOS NOT WAT TU PLAY WIT MI | genie well.I get home workrgkgrmgfdmwrb kqke k'bktrptrh;rt,llg , f, kqerk grfnjfobo45gf,lrmt lkk34tkng e qrmreg gew | kwgfdgfgh gfbvfztrhhfhjmfdfh $ 10000000000000000000000000000000000000000000000000000000000000000000000000000000000000000000000000000000000000000000000000000000000000000000000000000000000000000000000000000000000000000$ | UIHEFWFFHFRIU | jyuiwygguft | ppkdlfjnfnncc Dear PROPERNAME, What's so funny? Bye, The Genie   | Hi PROPERNAME! Yes, I'm doing well! I hope you are, too. Keep up the good work in RM City. :) Bye, The Genie   | Dear PROPERNAME! You will have homework if your teacher assigns it. I do not assign homework. Your friend, The Genie   | Hello PROPERNAME, Hello to you, too. Let me know if you need help with anything or have any questions. :) Your friend,The Genie   | Hello PROPERNAME! Thank you for your apology. I know that you'll do better from now on. Bye,The Genie   | Hi PROPERNAME: That sounds like something you will have to talk to your teacher about. I know it is hard to concentrate if someone is distracting you!Let your teacher know. Bye, The Genie   | PROPERNAME! Uh oh! I've been pranked?!Your friend, The Genie :)   | Hey PROPERNAME: I'm sorry to hear that. Maybe someone else will play with you if you ask nicely. :) Your friend, The Genie  | PROPERNAME! You will get homework if your teacher assigns it. Teachers are the ones who assign homework. Your friend, The Genie  Hey PROPERNAME, Sorry, but I don't understand what you mean. Best,The Genie   | Hello PROPERNAME, Sorry, but I don't understand what you mean. Bye,The Genie   | Dear PROPERNAME, I'm sorry, but I couldn't understand your message. Your friend,The Genie   | Hello PROPERNAME! I'm great! How are you? Bye,The Genie   | Dear PROPERNAME: I'm sorry, but I couldn't understand your message. Your friend,The Genie  \",\n",
       "       u\"hiiiiiiiiiiiiiiiiiiiiiiiiiiiiiiiiiiiiiiiiiiiiiiiiiiiiiiiiiiiiiiiiiiiiiiiiiiiiiiiiiiiiiiiiiiiiiiiiii | HIIIIIIIIIIIIIIIIIIIIIIIIIIIIIIIIIIIIIIIIIIIIIIIIIIIIIIIIIIIIIIIIIIIIIIIIIIIIIIIIIIIIIIIIIIIIIIIIIIIIIIIIIIIIIIIIIIIIIIIIIIIIIIIIIIIIIIIIIIIIIIIIIIIIIIIIIIIIIIIIIIIIIIIIIIIIIIIIIIIIIIIIIIIIIIIIIIIIIIIIIIIIIIIIIIIIIIIIIIIIIIIIIIIIIIIIIIIIIIIIIIIIIIIIIIIIIIIIIIIIIIIIIIIIIIIIIIIIIIIIIIIIIIIIIIIIIIIIIIIIIIIIIIIIIIIIIIIIIIIIIII:)! | HHHHHHHHHHHHHHHHHHH HHHHHHHHHHHHHHHHHHHHHHHHHHHHHHHHHHHHHHHHHHHHHHHHHHHHHHHHHHHHHHHHHHHHHHHHHHHHHHHHHHHHHHHHHHHHHHHHHHHHHHHHHHHHHHHHHHHHHHHHHHHHHHHHHHHHHHHHHHHHHHHHHHHHHHHHHHHHHHHHHHHHHHHHHHHHHHHHHHHHHH9IIIIIIIIIIIIIIIIIIIIIIIIIIIIIIIIIIIIIIIIIIIIIIIIIIIIIIIIIIIIIIIIIIIIIIIIIIIIIIIIIIIIIIIIIIIIIIIIIIIIIIIIIIIIIIIIIIIIIIIIIIIIIIIIIIIIIIIIIIIIIIIIIIIIIIIIIIIIIIIIIIIIIIIIIIIIIIIIIIIIIIIIIIIIIIIIIIIIIIIIIIIIIIIIIIIIIIIIIIIIIIIIIII.HHHHHHHHHHHHHHHHHHHHHHHHHHHHHHHHHHHHHHHHHHHHHHHHHHHHHHHHHHHHHHHHHHHHHHHHHHHHHHHIIIIIIIIIIIIIIIIIIIIIIIIIIIIIIIIIIIIIIIIIIIIIIIIIIIIIIIIIIIIIIIIIIIIIIIIIIIIIIIIIIIIIIIIIIIIIIIIIIIIIIIIIIIIIIIIIIIIIIIIIIIIIIIIIIIIIIIIIIIIIIIIIIIIIIIIIIIIIIIIIIIIIIIIIIIIIIIIIIIIIIIIIIIIIIIIIIIIIIIIIIIIIIIIIIIIIIIIIIIIIIIIIIIIIIIIIIIIIIIIIIIIIIIIIIIIIIIIIIIIIIIIIIIIIIIIIIIIIIIIIIIIIIIIIIIIIIIIIIIIIIIIIIIIIIIIIIIIIIIIIIIHHHHHHHHHHHHHHHHHHHHHHHHHHHHHHHHHHHHHHHHHHHHHHHHHHHHHHHHHHHHHHHHHHHHHHHHHHHHHHHHHHHHHHHHHHHHHHHHHHHHHHHHHHHHHHHHHHHHHHHHHHHHHHHHHHHHHHHHHHHHHHHHHHHHHHHHHHHHHHHHHHHIIIIIIIIIIIIIIIIIIIIIIIIIIIIIIIIIIIIIIIIIIIIIIIIIIIIIIIIIIIIIIIIIIIIIIIIIIIIIIIIIIIIIIIIIIIIIIIIIIIIIIIIIIIIIIIIIIIIIIIIIIIIIIIIIIIIIIIIIIIIIIIIIIIIIIIIIIIIIIIIIIIIIIIIIIIIIIIIIIIIIIIIIIIIIIIIIIIIIIIIIIIIIIIIIIIIIIIGENIEmoney pppppppppppppppppppppppppppppppppppppppppppppppppppppppppppppppppppppppppppppppplllllllllllllllllllllllllllllllllllllllllllllllllllllllllllllllllllleeeeeeeeeeeeeeeeeeeeeeeeeeeeeeeeeeeeeeeeeeeeeeeeeeeaaaaaaaaaaaaaaaaaaaaaaaaaaaaaaaaaaaaaaaaaaaaaaaaaaaaasssssssssssssssssssssssssssssssssssssssssssssssssssssssssssseeeeeeeeeeeeeeeeeeeeeeeeeeeeeeeeeeeeeeeeeeeeeeeeeeeeeeeeeeeeeeeeeeeeeeeeee please :( ;( :$ Hello Annaelva! Hello to you, too. Let me know if you need help with anything or have any questions. :) Bye, The Genie  | Hey Annaelva, I hope you're doing well and having fun. Thanks for writing! :) Your friend, The Genie  | Hi Annaelva! How are you, today? Did you have a good week? Your friend, The Genie :) Hey Annaelva, Math has always been my favorite thing, and teaching it to kids like you is even better. So, I do it for free because I love it so much. Best, The Genie \"],\n",
       "      dtype='<U42738')"
      ]
     },
     "execution_count": 73,
     "metadata": {},
     "output_type": "execute_result"
    }
   ],
   "source": [
    "# Dev data\n",
    "#df_dev = pd.read_csv(\"Data/NLP/GenieMessagesDev.csv\",  lineterminator='\\n', encoding='utf-8')\n",
    "df_test = pd.read_csv(\"Data/NLP/GenieMessagesTest.csv\", encoding='utf-8')\n",
    "\n",
    "#df_dev = df_dev[['Student_Year','Combined.messages.to.Genie_ALL', 'Combined.messages.from.Genie_ALL']]\n",
    "df_test = df_test[['Student_Year','Combined.messages.to.Genie_ALL', 'Combined.messages.from.Genie_ALL']]\n",
    "\n",
    "#df_dev.columns = ['stud', 'content1', 'content2']\n",
    "#df_dev['content'] = df_dev['content1'] + ' ' + df_dev['content2']\n",
    "#df_dev['content'].values.astype('U')\n",
    "\n",
    "df_test.columns = ['stud', 'content1', 'content2']\n",
    "df_test['content'] = df_test['content1'] + ' ' + df_test['content2']\n",
    "df_test['content'].values.astype('U')"
   ]
  },
  {
   "cell_type": "code",
   "execution_count": null,
   "metadata": {},
   "outputs": [],
   "source": [
    "#run model on one test example\n",
    "other_texts = [df_test.iloc[0]['content']]\n",
    "other_corpus = [id2word.doc2bow(text) for text in other_texts]\n",
    "\n",
    "unseen_doc = other_corpus[0]\n",
    "lda[unseen_doc]"
   ]
  },
  {
   "cell_type": "code",
   "execution_count": 75,
   "metadata": {
    "collapsed": true
   },
   "outputs": [],
   "source": [
    "#Run preprocessing for dev and test\n",
    "#dev_data = df_dev.content.values.tolist()\n",
    "#dev_data_words = list(sent_to_words(dev_data))\n",
    "# Remove Stop Words\n",
    "#dev_data_words_nostops = remove_stopwords(dev_data_words)\n",
    "# Form Bigrams\n",
    "#dev_data_words_bigrams = make_bigrams(dev_data_words_nostops)\n",
    "#dev_data_lemmatized = dev_data_words_bigrams\n",
    "\n",
    "#Run preprocessing for dev and test\n",
    "test_data = df_test.content.values.tolist()\n",
    "test_data_words = list(sent_to_words(test_data))\n",
    "# Remove Stop Words\n",
    "test_data_words_nostops = remove_stopwords(test_data_words)\n",
    "# Form Bigrams\n",
    "test_data_words_bigrams = make_bigrams(test_data_words_nostops)\n",
    "test_data_lemmatized = test_data_words_bigrams\n"
   ]
  },
  {
   "cell_type": "code",
   "execution_count": 80,
   "metadata": {},
   "outputs": [
    {
     "name": "stdout",
     "output_type": "stream",
     "text": [
      "[]\n",
      "[0.6031685323748543, 0.6741154124873293]\n"
     ]
    }
   ],
   "source": [
    "N = 2 #FILL WITH THE MAX N VALUE\n",
    "coherence_values_dev = []\n",
    "coherence_values_test = []\n",
    "for model in model_list[:N]:\n",
    "    #coherencemodel = CoherenceModel(model=model, texts=dev_data_lemmatized, dictionary=id2word, coherence='c_v')\n",
    "    #coherence_values_dev.append(coherencemodel.get_coherence())\n",
    "    coherencemodel = CoherenceModel(model=model, texts=test_data_lemmatized, dictionary=id2word, coherence='c_v')\n",
    "    coherence_values_test.append(coherencemodel.get_coherence())\n",
    "print coherence_values_dev\n",
    "print coherence_values_test"
   ]
  }
 ],
 "metadata": {
  "kernelspec": {
   "display_name": "Python 2",
   "language": "python",
   "name": "python2"
  },
  "language_info": {
   "codemirror_mode": {
    "name": "ipython",
    "version": 2
   },
   "file_extension": ".py",
   "mimetype": "text/x-python",
   "name": "python",
   "nbconvert_exporter": "python",
   "pygments_lexer": "ipython2",
   "version": "2.7.15"
  }
 },
 "nbformat": 4,
 "nbformat_minor": 2
}
